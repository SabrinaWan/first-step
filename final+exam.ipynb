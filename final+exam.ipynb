{
 "cells": [
  {
   "cell_type": "code",
   "execution_count": 71,
   "metadata": {},
   "outputs": [
    {
     "data": {
      "text/plain": [
       "4037913"
      ]
     },
     "execution_count": 71,
     "metadata": {},
     "output_type": "execute_result"
    }
   ],
   "source": [
    "#2.用递归和非递归分别实现函数求0!+1!+2!+3!+...+n!，主程序以n=10分别调用。（20分）\n",
    "#非递归法：\n",
    "def feidigui_(n):\n",
    "    if n == 0:\n",
    "        return 1\n",
    "    else:\n",
    "        m=1\n",
    "        for i in range(1,n+1):\n",
    "            m=m*i\n",
    "    return m\n",
    "            \n",
    "\n",
    "def sum_feidigui(n):\n",
    "    s=0\n",
    "    for i in range(1,n+1):\n",
    "        s=feidigui_(i)+s\n",
    "    return s\n",
    "\n",
    "sum_feidigui(10)"
   ]
  },
  {
   "cell_type": "code",
   "execution_count": 72,
   "metadata": {},
   "outputs": [
    {
     "data": {
      "text/plain": [
       "4037913"
      ]
     },
     "execution_count": 72,
     "metadata": {},
     "output_type": "execute_result"
    }
   ],
   "source": [
    "#递归法：\n",
    "def digui_(n):\n",
    "    if n == 0:\n",
    "        return 1\n",
    "    else:\n",
    "        return n*digui_(n-1)\n",
    "\n",
    "def sum_digui(n):\n",
    "    s=0\n",
    "    for i in range(1,n+1):\n",
    "        s=digui_(i)+s\n",
    "    return s\n",
    "\n",
    "sum_digui(10)"
   ]
  },
  {
   "cell_type": "code",
   "execution_count": 9,
   "metadata": {},
   "outputs": [
    {
     "name": "stdout",
     "output_type": "stream",
     "text": [
      "第 1 个车牌号: 京 X - 0 H M 4 N\n",
      "第 2 个车牌号: 京 K - P Q B K A\n",
      "第 3 个车牌号: 京 W - U D W G H\n",
      "第 4 个车牌号: 京 A - 8 Y 4 J 8\n",
      "第 5 个车牌号: 京 Q - 8 E J N W\n",
      "第 6 个车牌号: 京 R - D V 1 0 N\n",
      "第 7 个车牌号: 京 Y - 8 X 3 9 0\n",
      "第 8 个车牌号: 京 K - S 6 Z 7 U\n",
      "第 9 个车牌号: 京 C - 8 8 T D Y\n",
      "第 10 个车牌号: 京 X - 4 S R J M\n"
     ]
    }
   ],
   "source": [
    "#3、北京车牌号的一般形式为：“京X-YYYYY”，其中X为字母，Y为字母或者数字，字母不能为I或者O，数字只能0-9之间。\n",
    "#请编写程序模拟选号过程：一次可以随机生成10个车牌号（不能有重复），依次将其编号为0-9，显示给用户。（20分）\n",
    "import random\n",
    "list1=['A','B','C','D','E','F','G','H','J','K','L','M','N','P','Q','R','S','T','U','V','W','X','Y','Z']\n",
    "list2=['A','B','C','D','E','F','G','H','J','K','L','M','N','P','Q','R','S','T','U','V','W','X','Y','Z']\n",
    "for i in range(10):\n",
    "    list2.append(i)\n",
    "def xuanhao():\n",
    "    for m in range(1,11):\n",
    "        a=random.choice(list1)\n",
    "        b=random.choice(list2)\n",
    "        c=random.choice(list2)\n",
    "        d=random.choice(list2)\n",
    "        e=random.choice(list2)\n",
    "        f=random.choice(list2)\n",
    "        print('第',m,'个车牌号:','京',a,'-',b,c,d,e,f)\n",
    "xuanhao()"
   ]
  },
  {
   "cell_type": "code",
   "execution_count": 104,
   "metadata": {},
   "outputs": [
    {
     "name": "stdout",
     "output_type": "stream",
     "text": [
      "第一个向量为: (1,2,3,4)\n",
      "第二个向量为: (4,5,6,7)\n",
      "第三个向量为: (7,8,9,10)\n",
      "向量间距离最小值为: 0.9583148474999098\n"
     ]
    }
   ],
   "source": [
    "#4、两个向量间的距离可定义为两个向量间的夹角余弦值，给定三个向量，求向量间距离的最小值。\n",
    "#三个向量为：[1,2,3,4],[4,5,6,7],[7,8,9,10]（20分）\n",
    "import math\n",
    "def distance():\n",
    "    a=math.sqrt(x1**2+y1**2+z1**2+w1**2)\n",
    "    b=math.sqrt(x2**2+y2**2+z2**2+w2**2)\n",
    "    c=math.sqrt(x3**2+y3**2+z3**2+w3**2)\n",
    "    ab=x1*x2+y1*y2+z1*z2+w1*w2\n",
    "    bc=x2*x3+y2*y3+z2*z3+w2*w3\n",
    "    ac=x1*x3+y1*y3+z1*z3+w1*w3\n",
    "    a_cos=bc/(b*c)\n",
    "    b_cos=ac/(a*c)\n",
    "    c_cos=ab/(a*b)\n",
    "    if a_cos<=b_cos:\n",
    "        min_=a_cos\n",
    "    else:\n",
    "        min_=b_cos\n",
    "    if c_cos<min_:\n",
    "        print('向量间距离最小值为:',c_cos)\n",
    "    else:\n",
    "        print('向量间距离最小值为:',min_)\n",
    "            \n",
    "print('第一个向量为:','(1,2,3,4)')\n",
    "print('第二个向量为:','(4,5,6,7)')\n",
    "print('第三个向量为:','(7,8,9,10)')\n",
    "x1,y1,z1,w1=1,2,3,4\n",
    "x2,y2,z2,w2=4,5,6,7\n",
    "x3,y3,z3,w3=7,8,9,10\n",
    "distance()"
   ]
  },
  {
   "cell_type": "code",
   "execution_count": 36,
   "metadata": {},
   "outputs": [
    {
     "name": "stdout",
     "output_type": "stream",
     "text": [
      "请输入符号:&\n",
      "请输入行数:6\n",
      "     & \n",
      "    & & \n",
      "   & & & \n",
      "  & & & & \n",
      " & & & & & \n",
      "& & & & & & \n",
      " & & & & & \n",
      "  & & & & \n",
      "   & & & \n",
      "    & & \n",
      "     & \n"
     ]
    }
   ],
   "source": [
    "#1、写函数，给定符号和行数，如’*’，5，可打印相应行数的如下菱形。主程序输入符号和行数调用该函数进行验证。（20分）\n",
    "def huiwen(m,n):\n",
    "    m=str(input('请输入符号:'))\n",
    "    n=int(input('请输入行数:'))\n",
    "    line = m*n\n",
    "    for i in range(1, len(line)+1):\n",
    "        print((len(line)-i)*' ' + (line[0]+' ')*i, end='')\n",
    "        print()\n",
    "    \n",
    "    for j in range(1,len(line)):\n",
    "        print(j*' ' + (line[0]+' ')*(len(line)-j), end='')\n",
    "        print()\n",
    "        \n",
    "def main():\n",
    "    \n",
    "    huiwen(m,n)\n",
    "    \n",
    "\n",
    "if __name__ == '__main__':\n",
    "    main()\n",
    "        "
   ]
  },
  {
   "cell_type": "code",
   "execution_count": 87,
   "metadata": {},
   "outputs": [],
   "source": [
    "#5、随机生成100000个整数（1-10000之间）作为集合A，随机生成100000个整数（1-15000之间）作为集合B。\n",
    "#（a）得到A,B所有出现的数及出现次数，分别输出到文件a.txt，b.txt中（新建文件），请输出多行，每行为两个数，两个数之间用逗号分隔（5分）；\n",
    "import random\n",
    "A=[]\n",
    "B=[]\n",
    "\n",
    "for i in range(1,100000):\n",
    "    a=random.randint(1,10000)\n",
    "    A.append(a)\n",
    "for j in range(1,100000):\n",
    "    b=random.randint(1,15000)\n",
    "    B.append(b)\n",
    "\n",
    "a_freq_pairs={}  \n",
    "for number in A:\n",
    "    if number in a_freq_pairs:\n",
    "        a_freq_pairs[number] += 1\n",
    "    else:\n",
    "        a_freq_pairs[number]=1\n",
    "\n",
    "A_freq_pairs=[]\n",
    "for key,value in a_freq_pairs.items():\n",
    "    a_=key,value\n",
    "    A_freq_pairs.append(a_)\n",
    "\n",
    "\n",
    "b_freq_pairs={}  \n",
    "for number_ in B:\n",
    "    if number_ in b_freq_pairs:\n",
    "        b_freq_pairs[number_] += 1\n",
    "    else:\n",
    "        b_freq_pairs[number_]=1\n",
    "\n",
    "B_freq_pairs=[]\n",
    "for key_,value_ in b_freq_pairs.items():\n",
    "    b_=key_,value_\n",
    "    B_freq_pairs.append(b_)\n",
    "\n",
    "fha=open(r'D:\\python\\a.txt','w')\n",
    "fhb=open(r'D:\\python\\b.txt','w')\n",
    "for i in range(len(A_freq_pairs)):\n",
    "    fha.write(str(A_freq_pairs[i]))\n",
    "    fha.write(',')\n",
    "for j in range(len(B_freq_pairs)):\n",
    "    fhb.write(str(B_freq_pairs[j]))\n",
    "    fhb.write(',')\n",
    "fha.close()\n",
    "fhb.close()"
   ]
  },
  {
   "cell_type": "code",
   "execution_count": 105,
   "metadata": {},
   "outputs": [],
   "source": [
    "#（b）列出A中所有回文数（例：12321）以及出现的次数（5分）；\n",
    "def palindrome():\n",
    "    huiwenlist={}\n",
    "    seq=[str(i) for i in A]\n",
    "    for m in seq:\n",
    "        if m == m[::-1]:\n",
    "            huiwenlist[number] += 1\n",
    "        else:\n",
    "            huiwenlist[number]=1\n",
    "\n",
    "palindrome()              "
   ]
  },
  {
   "cell_type": "code",
   "execution_count": null,
   "metadata": {
    "collapsed": true
   },
   "outputs": [],
   "source": [
    "#（c）列出B中分别由1-5个数字组成的数各自的总次数与总和，并按照总次数排序输出\n",
    "#（如223就是3个数字组成的数，2834就是4个数字组成的数）（5分）\n",
    "B_len=[]\n",
    "for key,value in b_freq_pairs.items():\n",
    "    c=key,value\n",
    "    B_len.append(b_)\n",
    "len_1=[]\n",
    "freq_1=[]\n",
    "len_2=[]\n",
    "freq_2=[]\n",
    "len_3=[]\n",
    "freq_3=[]\n",
    "len_4=[]\n",
    "freq_4=[]\n",
    "len_5=[]\n",
    "freq_5=[]\n",
    "for i in range(len(B_len)):\n",
    "    cd=len(str(B_len[i][0]))\n",
    "    number=B_len[i][0]\n",
    "    freq=B_len[i][1]\n",
    "    if cd=1:\n",
    "        len_1.append(number)\n",
    "        freq_1.append(freq)\n",
    "    elif cd=2:\n",
    "        len_2.append(number)\n",
    "        freq_2.append(freq)\n",
    "    elif cd=3:\n",
    "        len_3.append(number)\n",
    "        freq_3.append(freq)\n",
    "    elif cd=4:\n",
    "        len_4.append(number)\n",
    "        freq_4.append(freq)\n",
    "    elif cd=5:\n",
    "        len_5.append(number)\n",
    "        freq_5.append(freq)\n",
    "dict_1={sum(len_1):sum(freq_1)}\n",
    "dict_2={sum(len_2):sum(freq_2)}\n",
    "dict_3={sum(len_3):sum(freq_3)}\n",
    "dict_4={sum(len_4):sum(freq_4)}\n",
    "dict_5={sum(len_5):sum(freq_5)}\n",
    "dict_1.update(dict_2)\n",
    "dict_1.update(dict_3)\n",
    "dict_1.update(dict_4)\n",
    "dict_1.update(dict_5)\n",
    "print(sorted(dict_1.items(),key=lambda d:d[1]))      \n"
   ]
  },
  {
   "cell_type": "code",
   "execution_count": 102,
   "metadata": {},
   "outputs": [
    {
     "name": "stdout",
     "output_type": "stream",
     "text": [
      "['893']\n",
      "['6758']\n",
      "set()\n"
     ]
    }
   ],
   "source": [
    "#（d）从a.txt,b.txt读入得到A与B中出现的数（注意不要次数），计算既出现在A又出现在B中的数，追加输出到文件a.txt（5分）。\n",
    "f=open(r'D:\\python\\a.txt','r')\n",
    "a=f.read()\n",
    "a1=a.replace('(','')\n",
    "a2=a1.replace(')','')\n",
    "a_=a2.replace(',','\\n')\n",
    "numbera=[num.split('\\n')[0]for num in a_.split(',')]\n",
    "print(numbera)\n",
    "h=open(r'D:\\python\\b.txt','r')\n",
    "b=h.read()\n",
    "b1=b.replace('(','')\n",
    "b2=b1.replace(')','')\n",
    "b_=b2.replace(',','\\n')\n",
    "numberb=[num.split('\\n')[0]for num in b_.split(',')]\n",
    "print(numberb)\n",
    "common=[]\n",
    "numa=set(numbera)\n",
    "numb=set(numberb)\n",
    "print(numa&numb)"
   ]
  },
  {
   "cell_type": "code",
   "execution_count": null,
   "metadata": {
    "collapsed": true
   },
   "outputs": [],
   "source": [
    "#（b）列出A中所有回文数（例：12321）以及出现的次数（5分）\n",
    "numbers_a=[]\n",
    "huiwen=[]\n",
    "for key,value in numbers_dict_1.items():\n",
    "    a=key,value\n",
    "    numbers_a.append(a)\n",
    "    \n",
    "for i in range(len(numbers_a)):\n",
    "    ha=len(str((numbers_a[i][0])))\n",
    "    zi=str((numbers_a[i][0]))\n",
    "    if ha==1:\n",
    "        huiwen.append(numbers_a[i])\n",
    "        \n",
    "    elif ha==2 and zi[0]==zi[1]:\n",
    "        huiwen.append(numbers_a[i])\n",
    "    elif ha==3 and zi[0]==zi[2]:\n",
    "        huiwen.append(numbers_a[i])\n",
    "    elif ha==4 and zi[0]==zi[3]and zi[1]==zi[2]:\n",
    "        huiwen.append(numbers_a[i])\n",
    "        \n",
    "        \n",
    "print(huiwen)"
   ]
  },
  {
   "cell_type": "code",
   "execution_count": null,
   "metadata": {
    "collapsed": true
   },
   "outputs": [],
   "source": []
  },
  {
   "cell_type": "code",
   "execution_count": null,
   "metadata": {
    "collapsed": true
   },
   "outputs": [],
   "source": []
  },
  {
   "cell_type": "code",
   "execution_count": null,
   "metadata": {
    "collapsed": true
   },
   "outputs": [],
   "source": []
  },
  {
   "cell_type": "code",
   "execution_count": null,
   "metadata": {
    "collapsed": true
   },
   "outputs": [],
   "source": []
  },
  {
   "cell_type": "code",
   "execution_count": null,
   "metadata": {
    "collapsed": true
   },
   "outputs": [],
   "source": []
  },
  {
   "cell_type": "code",
   "execution_count": null,
   "metadata": {
    "collapsed": true
   },
   "outputs": [],
   "source": []
  },
  {
   "cell_type": "code",
   "execution_count": null,
   "metadata": {
    "collapsed": true
   },
   "outputs": [],
   "source": []
  },
  {
   "cell_type": "code",
   "execution_count": null,
   "metadata": {
    "collapsed": true
   },
   "outputs": [],
   "source": []
  },
  {
   "cell_type": "code",
   "execution_count": null,
   "metadata": {
    "collapsed": true
   },
   "outputs": [],
   "source": []
  },
  {
   "cell_type": "code",
   "execution_count": null,
   "metadata": {
    "collapsed": true
   },
   "outputs": [],
   "source": []
  },
  {
   "cell_type": "code",
   "execution_count": null,
   "metadata": {
    "collapsed": true
   },
   "outputs": [],
   "source": []
  },
  {
   "cell_type": "code",
   "execution_count": null,
   "metadata": {
    "collapsed": true
   },
   "outputs": [],
   "source": []
  },
  {
   "cell_type": "code",
   "execution_count": null,
   "metadata": {
    "collapsed": true
   },
   "outputs": [],
   "source": []
  },
  {
   "cell_type": "code",
   "execution_count": null,
   "metadata": {
    "collapsed": true
   },
   "outputs": [],
   "source": []
  },
  {
   "cell_type": "code",
   "execution_count": null,
   "metadata": {
    "collapsed": true
   },
   "outputs": [],
   "source": []
  },
  {
   "cell_type": "code",
   "execution_count": null,
   "metadata": {
    "collapsed": true
   },
   "outputs": [],
   "source": []
  },
  {
   "cell_type": "code",
   "execution_count": null,
   "metadata": {
    "collapsed": true
   },
   "outputs": [],
   "source": []
  },
  {
   "cell_type": "code",
   "execution_count": null,
   "metadata": {
    "collapsed": true
   },
   "outputs": [],
   "source": []
  },
  {
   "cell_type": "code",
   "execution_count": null,
   "metadata": {
    "collapsed": true
   },
   "outputs": [],
   "source": []
  },
  {
   "cell_type": "code",
   "execution_count": null,
   "metadata": {
    "collapsed": true
   },
   "outputs": [],
   "source": []
  },
  {
   "cell_type": "code",
   "execution_count": null,
   "metadata": {
    "collapsed": true
   },
   "outputs": [],
   "source": []
  },
  {
   "cell_type": "code",
   "execution_count": null,
   "metadata": {
    "collapsed": true
   },
   "outputs": [],
   "source": []
  },
  {
   "cell_type": "code",
   "execution_count": null,
   "metadata": {
    "collapsed": true
   },
   "outputs": [],
   "source": []
  },
  {
   "cell_type": "code",
   "execution_count": null,
   "metadata": {
    "collapsed": true
   },
   "outputs": [],
   "source": []
  },
  {
   "cell_type": "code",
   "execution_count": null,
   "metadata": {
    "collapsed": true
   },
   "outputs": [],
   "source": []
  },
  {
   "cell_type": "code",
   "execution_count": null,
   "metadata": {
    "collapsed": true
   },
   "outputs": [],
   "source": []
  },
  {
   "cell_type": "code",
   "execution_count": null,
   "metadata": {
    "collapsed": true
   },
   "outputs": [],
   "source": []
  },
  {
   "cell_type": "code",
   "execution_count": null,
   "metadata": {
    "collapsed": true
   },
   "outputs": [],
   "source": []
  },
  {
   "cell_type": "code",
   "execution_count": null,
   "metadata": {
    "collapsed": true
   },
   "outputs": [],
   "source": []
  },
  {
   "cell_type": "code",
   "execution_count": null,
   "metadata": {
    "collapsed": true
   },
   "outputs": [],
   "source": []
  },
  {
   "cell_type": "code",
   "execution_count": null,
   "metadata": {
    "collapsed": true
   },
   "outputs": [],
   "source": []
  },
  {
   "cell_type": "code",
   "execution_count": null,
   "metadata": {
    "collapsed": true
   },
   "outputs": [],
   "source": []
  },
  {
   "cell_type": "code",
   "execution_count": null,
   "metadata": {
    "collapsed": true
   },
   "outputs": [],
   "source": [
    "；\n",
    "（d）从a.txt,b.txt读入得到A与B中出现的数（注意不要次数），计算既出现在A又出现在B中的数，追加输出到文件a.txt（5分）。"
   ]
  },
  {
   "cell_type": "code",
   "execution_count": null,
   "metadata": {
    "collapsed": true
   },
   "outputs": [],
   "source": []
  },
  {
   "cell_type": "code",
   "execution_count": null,
   "metadata": {
    "collapsed": true
   },
   "outputs": [],
   "source": []
  },
  {
   "cell_type": "code",
   "execution_count": null,
   "metadata": {
    "collapsed": true
   },
   "outputs": [],
   "source": []
  },
  {
   "cell_type": "code",
   "execution_count": null,
   "metadata": {
    "collapsed": true
   },
   "outputs": [],
   "source": []
  },
  {
   "cell_type": "code",
   "execution_count": null,
   "metadata": {
    "collapsed": true
   },
   "outputs": [],
   "source": []
  },
  {
   "cell_type": "code",
   "execution_count": null,
   "metadata": {
    "collapsed": true
   },
   "outputs": [],
   "source": []
  },
  {
   "cell_type": "code",
   "execution_count": null,
   "metadata": {
    "collapsed": true
   },
   "outputs": [],
   "source": []
  },
  {
   "cell_type": "code",
   "execution_count": null,
   "metadata": {
    "collapsed": true
   },
   "outputs": [],
   "source": []
  },
  {
   "cell_type": "code",
   "execution_count": null,
   "metadata": {
    "collapsed": true
   },
   "outputs": [],
   "source": []
  },
  {
   "cell_type": "code",
   "execution_count": null,
   "metadata": {
    "collapsed": true
   },
   "outputs": [],
   "source": []
  },
  {
   "cell_type": "code",
   "execution_count": null,
   "metadata": {
    "collapsed": true
   },
   "outputs": [],
   "source": []
  },
  {
   "cell_type": "code",
   "execution_count": null,
   "metadata": {
    "collapsed": true
   },
   "outputs": [],
   "source": []
  },
  {
   "cell_type": "code",
   "execution_count": null,
   "metadata": {
    "collapsed": true
   },
   "outputs": [],
   "source": []
  },
  {
   "cell_type": "code",
   "execution_count": null,
   "metadata": {
    "collapsed": true
   },
   "outputs": [],
   "source": []
  },
  {
   "cell_type": "code",
   "execution_count": null,
   "metadata": {
    "collapsed": true
   },
   "outputs": [],
   "source": []
  },
  {
   "cell_type": "code",
   "execution_count": null,
   "metadata": {
    "collapsed": true
   },
   "outputs": [],
   "source": []
  },
  {
   "cell_type": "code",
   "execution_count": null,
   "metadata": {
    "collapsed": true
   },
   "outputs": [],
   "source": []
  },
  {
   "cell_type": "code",
   "execution_count": null,
   "metadata": {
    "collapsed": true
   },
   "outputs": [],
   "source": []
  },
  {
   "cell_type": "code",
   "execution_count": null,
   "metadata": {
    "collapsed": true
   },
   "outputs": [],
   "source": []
  },
  {
   "cell_type": "code",
   "execution_count": null,
   "metadata": {
    "collapsed": true
   },
   "outputs": [],
   "source": []
  },
  {
   "cell_type": "code",
   "execution_count": null,
   "metadata": {
    "collapsed": true
   },
   "outputs": [],
   "source": []
  },
  {
   "cell_type": "code",
   "execution_count": null,
   "metadata": {
    "collapsed": true
   },
   "outputs": [],
   "source": []
  },
  {
   "cell_type": "code",
   "execution_count": null,
   "metadata": {
    "collapsed": true
   },
   "outputs": [],
   "source": []
  },
  {
   "cell_type": "code",
   "execution_count": null,
   "metadata": {
    "collapsed": true
   },
   "outputs": [],
   "source": []
  },
  {
   "cell_type": "code",
   "execution_count": null,
   "metadata": {
    "collapsed": true
   },
   "outputs": [],
   "source": []
  },
  {
   "cell_type": "code",
   "execution_count": null,
   "metadata": {
    "collapsed": true
   },
   "outputs": [],
   "source": []
  },
  {
   "cell_type": "code",
   "execution_count": null,
   "metadata": {
    "collapsed": true
   },
   "outputs": [],
   "source": []
  },
  {
   "cell_type": "code",
   "execution_count": null,
   "metadata": {
    "collapsed": true
   },
   "outputs": [],
   "source": []
  },
  {
   "cell_type": "code",
   "execution_count": null,
   "metadata": {
    "collapsed": true
   },
   "outputs": [],
   "source": []
  },
  {
   "cell_type": "code",
   "execution_count": null,
   "metadata": {
    "collapsed": true
   },
   "outputs": [],
   "source": []
  },
  {
   "cell_type": "code",
   "execution_count": null,
   "metadata": {
    "collapsed": true
   },
   "outputs": [],
   "source": []
  },
  {
   "cell_type": "code",
   "execution_count": null,
   "metadata": {
    "collapsed": true
   },
   "outputs": [],
   "source": []
  },
  {
   "cell_type": "code",
   "execution_count": null,
   "metadata": {
    "collapsed": true
   },
   "outputs": [],
   "source": []
  },
  {
   "cell_type": "code",
   "execution_count": null,
   "metadata": {
    "collapsed": true
   },
   "outputs": [],
   "source": []
  },
  {
   "cell_type": "code",
   "execution_count": null,
   "metadata": {
    "collapsed": true
   },
   "outputs": [],
   "source": []
  },
  {
   "cell_type": "code",
   "execution_count": null,
   "metadata": {
    "collapsed": true
   },
   "outputs": [],
   "source": []
  },
  {
   "cell_type": "code",
   "execution_count": null,
   "metadata": {
    "collapsed": true
   },
   "outputs": [],
   "source": []
  },
  {
   "cell_type": "code",
   "execution_count": null,
   "metadata": {
    "collapsed": true
   },
   "outputs": [],
   "source": []
  },
  {
   "cell_type": "code",
   "execution_count": null,
   "metadata": {
    "collapsed": true
   },
   "outputs": [],
   "source": []
  },
  {
   "cell_type": "code",
   "execution_count": null,
   "metadata": {
    "collapsed": true
   },
   "outputs": [],
   "source": []
  },
  {
   "cell_type": "code",
   "execution_count": null,
   "metadata": {
    "collapsed": true
   },
   "outputs": [],
   "source": []
  },
  {
   "cell_type": "code",
   "execution_count": null,
   "metadata": {
    "collapsed": true
   },
   "outputs": [],
   "source": []
  },
  {
   "cell_type": "code",
   "execution_count": null,
   "metadata": {
    "collapsed": true
   },
   "outputs": [],
   "source": []
  },
  {
   "cell_type": "code",
   "execution_count": null,
   "metadata": {
    "collapsed": true
   },
   "outputs": [],
   "source": []
  },
  {
   "cell_type": "code",
   "execution_count": null,
   "metadata": {
    "collapsed": true
   },
   "outputs": [],
   "source": []
  },
  {
   "cell_type": "code",
   "execution_count": null,
   "metadata": {
    "collapsed": true
   },
   "outputs": [],
   "source": []
  },
  {
   "cell_type": "code",
   "execution_count": null,
   "metadata": {
    "collapsed": true
   },
   "outputs": [],
   "source": []
  },
  {
   "cell_type": "code",
   "execution_count": null,
   "metadata": {
    "collapsed": true
   },
   "outputs": [],
   "source": []
  },
  {
   "cell_type": "code",
   "execution_count": null,
   "metadata": {
    "collapsed": true
   },
   "outputs": [],
   "source": []
  }
 ],
 "metadata": {
  "kernelspec": {
   "display_name": "Python 3",
   "language": "python",
   "name": "python3"
  },
  "language_info": {
   "codemirror_mode": {
    "name": "ipython",
    "version": 3
   },
   "file_extension": ".py",
   "mimetype": "text/x-python",
   "name": "python",
   "nbconvert_exporter": "python",
   "pygments_lexer": "ipython3",
   "version": "3.6.3"
  }
 },
 "nbformat": 4,
 "nbformat_minor": 2
}
