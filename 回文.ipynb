{
 "cells": [
  {
   "cell_type": "code",
   "execution_count": 24,
   "metadata": {},
   "outputs": [
    {
     "name": "stdout",
     "output_type": "stream",
     "text": [
      "    *\n",
      "   * *\n",
      "  *   *\n",
      " *     *\n",
      "*       *\n",
      " *     *\n",
      "  *   *\n",
      "   * *\n",
      "    *\n"
     ]
    }
   ],
   "source": [
    "#空心菱形\n",
    "def huiwen(m,n):\n",
    "    m='*'\n",
    "    n=5\n",
    "    line = m*n\n",
    "    for i in range(1,2):\n",
    "        print((len(line)-i)*' ' + line[0])\n",
    "    \n",
    "    for i in range(2, len(line)+1):\n",
    "        print((len(line)-i)*' ' + line[0] + ' '*(2*i-3) + line[0], end='')\n",
    "        print()\n",
    "    \n",
    "    for j in range(1,len(line)-1):\n",
    "        print(j*' ' + line[0]+ ' '*((2*(len(line)-1-j))-1)+line[0], end='')\n",
    "        print()\n",
    "        \n",
    "    for j in range(len(line)-1,len(line)):\n",
    "        print(j*' ' + line[0], end='')\n",
    "        print()\n",
    "            \n",
    "        \n",
    "def main():\n",
    "    m='*'\n",
    "    n=5\n",
    "    huiwen(m,n)\n",
    "    \n",
    "\n",
    "if __name__ == '__main__':\n",
    "    main()"
   ]
  },
  {
   "cell_type": "code",
   "execution_count": 32,
   "metadata": {},
   "outputs": [
    {
     "name": "stdout",
     "output_type": "stream",
     "text": [
      "           大\n",
      "          大大\n",
      "         大兄大\n",
      "        大兄兄大\n",
      "       大兄弟兄大\n",
      "      大兄弟弟兄大\n",
      "     大兄弟你弟兄大\n",
      "    大兄弟你你弟兄大\n",
      "   大兄弟你傻你弟兄大\n",
      "  大兄弟你傻傻你弟兄大\n",
      " 大兄弟你傻吧傻你弟兄大\n"
     ]
    }
   ],
   "source": [
    "#回文字符正三角形\n",
    "def plalindrome(line):\n",
    "    for i in range(1, len(line)*2):\n",
    "        if i == 1:\n",
    "            print(' '*(len(line)*2-1) +line[0])\n",
    "        elif i%2 == 1:\n",
    "            print(' '*(len(line)*2-i) + line[:i//2] + line[i//2::-1])\n",
    "        else:\n",
    "            print(' '*(len(line)*2-i) + line[:i//2] +  line[i//2-1::-1])\n",
    "\n",
    "def main():\n",
    "    text = '大兄弟你傻吧'\n",
    "    plalindrome(text)\n",
    "    \n",
    "\n",
    "if __name__ == '__main__':\n",
    "    main()"
   ]
  },
  {
   "cell_type": "code",
   "execution_count": 6,
   "metadata": {},
   "outputs": [
    {
     "name": "stdout",
     "output_type": "stream",
     "text": [
      "请输入符号:%\n",
      "请输入行数:7\n",
      "      %\n",
      "     %%\n",
      "    %%%\n",
      "   %%%%\n",
      "  %%%%%\n",
      " %%%%%%\n",
      "%%%%%%%\n"
     ]
    }
   ],
   "source": [
    "#直角三角形\n",
    "def zhijiao(m,n):\n",
    "    line=m*n\n",
    "    for i in range(1,len(line)+1):\n",
    "        print(' '*(len(line)-i)+line[0]*i,end='')\n",
    "        print()\n",
    "\n",
    "def main():\n",
    "    m=str(input('请输入符号:'))\n",
    "    n=int(input('请输入行数:'))\n",
    "    zhijiao(m,n)\n",
    "    \n",
    "\n",
    "if __name__ == '__main__':\n",
    "    main()\n",
    "        \n"
   ]
  },
  {
   "cell_type": "code",
   "execution_count": 7,
   "metadata": {},
   "outputs": [
    {
     "name": "stdout",
     "output_type": "stream",
     "text": [
      " 大\n",
      "  大大\n",
      "   大兄大\n",
      "    大兄兄大\n",
      "     大兄弟兄大\n",
      "      大兄弟弟兄大\n",
      "       大兄弟你弟兄大\n",
      "        大兄弟你你弟兄大\n",
      "         大兄弟你傻你弟兄大\n",
      "          大兄弟你傻傻你弟兄大\n",
      "           大兄弟你傻吧傻你弟兄大\n"
     ]
    }
   ],
   "source": [
    "#回文字符钝角三角形\n",
    "def plalindrome(line):\n",
    "    for i in range(1, len(line)*2):\n",
    "        if i == 1:\n",
    "            print(' '*i +line[0])\n",
    "        elif i%2 == 1:\n",
    "            print(' '*i + line[:i//2] + line[i//2::-1])\n",
    "        else:\n",
    "            print(' '*i + line[:i//2] +  line[i//2-1::-1])\n",
    "\n",
    "def main():\n",
    "    text = '大兄弟你傻吧'\n",
    "    plalindrome(text)\n",
    "    \n",
    "\n",
    "if __name__ == '__main__':\n",
    "    main()"
   ]
  },
  {
   "cell_type": "code",
   "execution_count": 28,
   "metadata": {},
   "outputs": [
    {
     "name": "stdout",
     "output_type": "stream",
     "text": [
      " 大兄弟你傻吧傻你弟兄大\n",
      "  大兄弟你傻傻你弟兄大\n",
      "   大兄弟你傻你弟兄大\n",
      "    大兄弟你你弟兄大\n",
      "     大兄弟你弟兄大\n",
      "      大兄弟弟兄大\n",
      "       大兄弟兄大\n",
      "        大兄兄大\n",
      "         大兄大\n",
      "          大大\n",
      "           大\n"
     ]
    }
   ],
   "source": [
    "#回文字符倒三角形 (直接变i)\n",
    "def plalindrome(line):\n",
    "    for i in range(1, len(line)*2):\n",
    "        if i == (2*len(line)-1):\n",
    "            print(' '*i +line[0])\n",
    "        elif i%2 == 1:\n",
    "            print(' '*i + line[:(2*len(line)-i)//2] + line[(2*len(line)-i)//2::-1])\n",
    "        else:\n",
    "            print(' '*i + line[:(2*len(line)-i)//2] +  line[(2*len(line)-i)//2-1::-1])\n",
    "\n",
    "def main():\n",
    "    text = '大兄弟你傻吧'\n",
    "    plalindrome(text)\n",
    "    \n",
    "\n",
    "if __name__ == '__main__':\n",
    "    main()"
   ]
  },
  {
   "cell_type": "code",
   "execution_count": 32,
   "metadata": {},
   "outputs": [
    {
     "name": "stdout",
     "output_type": "stream",
     "text": [
      "           大\n",
      "          大大\n",
      "         大兄大\n",
      "        大兄兄大\n",
      "       大兄弟兄大\n",
      "      大兄弟弟兄大\n",
      "     大兄弟你弟兄大\n",
      "    大兄弟你你弟兄大\n",
      "   大兄弟你傻你弟兄大\n",
      "  大兄弟你傻傻你弟兄大\n",
      " 大兄弟你傻吧傻你弟兄大\n",
      "  大兄弟你傻傻你弟兄大\n",
      "   大兄弟你傻你弟兄大\n",
      "    大兄弟你你弟兄大\n",
      "     大兄弟你弟兄大\n",
      "      大兄弟弟兄大\n",
      "       大兄弟兄大\n",
      "        大兄兄大\n",
      "         大兄大\n",
      "          大大\n",
      "           大\n"
     ]
    }
   ],
   "source": [
    "#菱形回文\n",
    "def plalindrome(line):\n",
    "    for i in range(1, len(line)*2):\n",
    "        if i == 1:\n",
    "            print(' '*(len(line)*2-i) +line[0])\n",
    "        elif i%2 == 1:\n",
    "            print(' '*(len(line)*2-i) + line[:i//2] + line[i//2::-1])\n",
    "        else:\n",
    "            print(' '*(len(line)*2-i) + line[:i//2] +  line[i//2-1::-1])\n",
    "            \n",
    "    for i in range(2, len(line)*2):\n",
    "        if i == (2*len(line)-1):\n",
    "            print(' '*i +line[0])\n",
    "        elif i%2 == 1:\n",
    "            print(' '*i + line[:(2*len(line)-i)//2] + line[(2*len(line)-i)//2::-1])\n",
    "        else:\n",
    "            print(' '*i + line[:(2*len(line)-i)//2] +  line[(2*len(line)-i)//2-1::-1])\n",
    "\n",
    "\n",
    "def main():\n",
    "    text = '大兄弟你傻吧'\n",
    "    plalindrome(text)\n",
    "    \n",
    "\n",
    "if __name__ == '__main__':\n",
    "    main()"
   ]
  },
  {
   "cell_type": "code",
   "execution_count": 39,
   "metadata": {},
   "outputs": [
    {
     "name": "stdout",
     "output_type": "stream",
     "text": [
      "请输入符号:%\n",
      "请输入行数:7\n",
      "      % \n",
      "     % % \n",
      "    % % % \n",
      "   % % % % \n",
      "  % % % % % \n",
      " % % % % % % \n",
      "% % % % % % % \n",
      " % % % % % % \n",
      "  % % % % % \n",
      "   % % % % \n",
      "    % % % \n",
      "     % % \n",
      "      % \n"
     ]
    }
   ],
   "source": [
    "#菱形\n",
    "m=str(input('请输入符号:'))\n",
    "n=int(input('请输入行数:'))\n",
    "def huiwen(m,n):\n",
    "    line = m*n\n",
    "    for i in range(1, len(line)+1):\n",
    "        print((len(line)-i)*' ' + (line[0]+' ')*i, end='')\n",
    "        print()\n",
    "    \n",
    "    for j in range(1,len(line)):\n",
    "        print(j*' ' + (line[0]+' ')*(len(line)-j), end='')\n",
    "        print()\n",
    "    return m,n\n",
    "        \n",
    "def main():\n",
    "   \n",
    "    huiwen(m,n)\n",
    "    \n",
    "\n",
    "if __name__ == '__main__':\n",
    "    main()"
   ]
  },
  {
   "cell_type": "code",
   "execution_count": null,
   "metadata": {
    "collapsed": true
   },
   "outputs": [],
   "source": []
  },
  {
   "cell_type": "code",
   "execution_count": null,
   "metadata": {
    "collapsed": true
   },
   "outputs": [],
   "source": []
  },
  {
   "cell_type": "code",
   "execution_count": null,
   "metadata": {
    "collapsed": true
   },
   "outputs": [],
   "source": []
  },
  {
   "cell_type": "code",
   "execution_count": null,
   "metadata": {
    "collapsed": true
   },
   "outputs": [],
   "source": []
  },
  {
   "cell_type": "code",
   "execution_count": null,
   "metadata": {
    "collapsed": true
   },
   "outputs": [],
   "source": []
  },
  {
   "cell_type": "code",
   "execution_count": null,
   "metadata": {
    "collapsed": true
   },
   "outputs": [],
   "source": []
  },
  {
   "cell_type": "code",
   "execution_count": null,
   "metadata": {
    "collapsed": true
   },
   "outputs": [],
   "source": []
  },
  {
   "cell_type": "code",
   "execution_count": null,
   "metadata": {
    "collapsed": true
   },
   "outputs": [],
   "source": []
  },
  {
   "cell_type": "code",
   "execution_count": null,
   "metadata": {
    "collapsed": true
   },
   "outputs": [],
   "source": []
  },
  {
   "cell_type": "code",
   "execution_count": null,
   "metadata": {
    "collapsed": true
   },
   "outputs": [],
   "source": []
  },
  {
   "cell_type": "code",
   "execution_count": null,
   "metadata": {
    "collapsed": true
   },
   "outputs": [],
   "source": []
  },
  {
   "cell_type": "code",
   "execution_count": null,
   "metadata": {
    "collapsed": true
   },
   "outputs": [],
   "source": []
  },
  {
   "cell_type": "code",
   "execution_count": null,
   "metadata": {
    "collapsed": true
   },
   "outputs": [],
   "source": []
  },
  {
   "cell_type": "code",
   "execution_count": null,
   "metadata": {
    "collapsed": true
   },
   "outputs": [],
   "source": []
  },
  {
   "cell_type": "code",
   "execution_count": null,
   "metadata": {
    "collapsed": true
   },
   "outputs": [],
   "source": []
  },
  {
   "cell_type": "code",
   "execution_count": null,
   "metadata": {
    "collapsed": true
   },
   "outputs": [],
   "source": []
  },
  {
   "cell_type": "code",
   "execution_count": null,
   "metadata": {
    "collapsed": true
   },
   "outputs": [],
   "source": []
  },
  {
   "cell_type": "code",
   "execution_count": null,
   "metadata": {
    "collapsed": true
   },
   "outputs": [],
   "source": []
  },
  {
   "cell_type": "code",
   "execution_count": null,
   "metadata": {
    "collapsed": true
   },
   "outputs": [],
   "source": []
  },
  {
   "cell_type": "code",
   "execution_count": null,
   "metadata": {
    "collapsed": true
   },
   "outputs": [],
   "source": []
  },
  {
   "cell_type": "code",
   "execution_count": null,
   "metadata": {
    "collapsed": true
   },
   "outputs": [],
   "source": []
  },
  {
   "cell_type": "code",
   "execution_count": null,
   "metadata": {
    "collapsed": true
   },
   "outputs": [],
   "source": []
  },
  {
   "cell_type": "code",
   "execution_count": null,
   "metadata": {
    "collapsed": true
   },
   "outputs": [],
   "source": []
  },
  {
   "cell_type": "code",
   "execution_count": null,
   "metadata": {
    "collapsed": true
   },
   "outputs": [],
   "source": []
  },
  {
   "cell_type": "code",
   "execution_count": null,
   "metadata": {
    "collapsed": true
   },
   "outputs": [],
   "source": []
  },
  {
   "cell_type": "code",
   "execution_count": null,
   "metadata": {
    "collapsed": true
   },
   "outputs": [],
   "source": []
  },
  {
   "cell_type": "code",
   "execution_count": null,
   "metadata": {
    "collapsed": true
   },
   "outputs": [],
   "source": []
  },
  {
   "cell_type": "code",
   "execution_count": null,
   "metadata": {
    "collapsed": true
   },
   "outputs": [],
   "source": []
  },
  {
   "cell_type": "code",
   "execution_count": null,
   "metadata": {
    "collapsed": true
   },
   "outputs": [],
   "source": []
  },
  {
   "cell_type": "code",
   "execution_count": null,
   "metadata": {
    "collapsed": true
   },
   "outputs": [],
   "source": []
  },
  {
   "cell_type": "code",
   "execution_count": null,
   "metadata": {
    "collapsed": true
   },
   "outputs": [],
   "source": []
  },
  {
   "cell_type": "code",
   "execution_count": null,
   "metadata": {
    "collapsed": true
   },
   "outputs": [],
   "source": []
  },
  {
   "cell_type": "code",
   "execution_count": null,
   "metadata": {
    "collapsed": true
   },
   "outputs": [],
   "source": []
  },
  {
   "cell_type": "code",
   "execution_count": null,
   "metadata": {
    "collapsed": true
   },
   "outputs": [],
   "source": []
  },
  {
   "cell_type": "code",
   "execution_count": null,
   "metadata": {
    "collapsed": true
   },
   "outputs": [],
   "source": []
  },
  {
   "cell_type": "code",
   "execution_count": null,
   "metadata": {
    "collapsed": true
   },
   "outputs": [],
   "source": []
  },
  {
   "cell_type": "code",
   "execution_count": null,
   "metadata": {
    "collapsed": true
   },
   "outputs": [],
   "source": []
  },
  {
   "cell_type": "code",
   "execution_count": null,
   "metadata": {
    "collapsed": true
   },
   "outputs": [],
   "source": []
  },
  {
   "cell_type": "code",
   "execution_count": null,
   "metadata": {
    "collapsed": true
   },
   "outputs": [],
   "source": []
  },
  {
   "cell_type": "code",
   "execution_count": null,
   "metadata": {
    "collapsed": true
   },
   "outputs": [],
   "source": []
  },
  {
   "cell_type": "code",
   "execution_count": null,
   "metadata": {
    "collapsed": true
   },
   "outputs": [],
   "source": []
  },
  {
   "cell_type": "code",
   "execution_count": null,
   "metadata": {
    "collapsed": true
   },
   "outputs": [],
   "source": []
  },
  {
   "cell_type": "code",
   "execution_count": null,
   "metadata": {
    "collapsed": true
   },
   "outputs": [],
   "source": []
  },
  {
   "cell_type": "code",
   "execution_count": null,
   "metadata": {
    "collapsed": true
   },
   "outputs": [],
   "source": []
  },
  {
   "cell_type": "code",
   "execution_count": null,
   "metadata": {
    "collapsed": true
   },
   "outputs": [],
   "source": []
  },
  {
   "cell_type": "code",
   "execution_count": null,
   "metadata": {
    "collapsed": true
   },
   "outputs": [],
   "source": []
  },
  {
   "cell_type": "code",
   "execution_count": null,
   "metadata": {
    "collapsed": true
   },
   "outputs": [],
   "source": []
  },
  {
   "cell_type": "code",
   "execution_count": null,
   "metadata": {
    "collapsed": true
   },
   "outputs": [],
   "source": []
  },
  {
   "cell_type": "code",
   "execution_count": null,
   "metadata": {
    "collapsed": true
   },
   "outputs": [],
   "source": []
  },
  {
   "cell_type": "code",
   "execution_count": null,
   "metadata": {
    "collapsed": true
   },
   "outputs": [],
   "source": []
  },
  {
   "cell_type": "code",
   "execution_count": null,
   "metadata": {
    "collapsed": true
   },
   "outputs": [],
   "source": []
  },
  {
   "cell_type": "code",
   "execution_count": null,
   "metadata": {
    "collapsed": true
   },
   "outputs": [],
   "source": []
  },
  {
   "cell_type": "code",
   "execution_count": null,
   "metadata": {
    "collapsed": true
   },
   "outputs": [],
   "source": []
  },
  {
   "cell_type": "code",
   "execution_count": null,
   "metadata": {
    "collapsed": true
   },
   "outputs": [],
   "source": []
  },
  {
   "cell_type": "code",
   "execution_count": null,
   "metadata": {
    "collapsed": true
   },
   "outputs": [],
   "source": []
  },
  {
   "cell_type": "code",
   "execution_count": null,
   "metadata": {
    "collapsed": true
   },
   "outputs": [],
   "source": []
  },
  {
   "cell_type": "code",
   "execution_count": null,
   "metadata": {
    "collapsed": true
   },
   "outputs": [],
   "source": []
  },
  {
   "cell_type": "code",
   "execution_count": null,
   "metadata": {
    "collapsed": true
   },
   "outputs": [],
   "source": []
  },
  {
   "cell_type": "code",
   "execution_count": null,
   "metadata": {
    "collapsed": true
   },
   "outputs": [],
   "source": []
  },
  {
   "cell_type": "code",
   "execution_count": null,
   "metadata": {
    "collapsed": true
   },
   "outputs": [],
   "source": []
  },
  {
   "cell_type": "code",
   "execution_count": null,
   "metadata": {
    "collapsed": true
   },
   "outputs": [],
   "source": []
  },
  {
   "cell_type": "code",
   "execution_count": null,
   "metadata": {
    "collapsed": true
   },
   "outputs": [],
   "source": []
  },
  {
   "cell_type": "code",
   "execution_count": null,
   "metadata": {
    "collapsed": true
   },
   "outputs": [],
   "source": []
  },
  {
   "cell_type": "code",
   "execution_count": null,
   "metadata": {
    "collapsed": true
   },
   "outputs": [],
   "source": []
  },
  {
   "cell_type": "code",
   "execution_count": null,
   "metadata": {
    "collapsed": true
   },
   "outputs": [],
   "source": []
  },
  {
   "cell_type": "code",
   "execution_count": null,
   "metadata": {
    "collapsed": true
   },
   "outputs": [],
   "source": []
  },
  {
   "cell_type": "code",
   "execution_count": null,
   "metadata": {
    "collapsed": true
   },
   "outputs": [],
   "source": []
  },
  {
   "cell_type": "code",
   "execution_count": null,
   "metadata": {
    "collapsed": true
   },
   "outputs": [],
   "source": []
  }
 ],
 "metadata": {
  "kernelspec": {
   "display_name": "Python 3",
   "language": "python",
   "name": "python3"
  },
  "language_info": {
   "codemirror_mode": {
    "name": "ipython",
    "version": 3
   },
   "file_extension": ".py",
   "mimetype": "text/x-python",
   "name": "python",
   "nbconvert_exporter": "python",
   "pygments_lexer": "ipython3",
   "version": "3.6.3"
  }
 },
 "nbformat": 4,
 "nbformat_minor": 2
}
